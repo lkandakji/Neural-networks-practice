{
 "cells": [
  {
   "cell_type": "code",
   "execution_count": 1,
   "id": "6a113714",
   "metadata": {},
   "outputs": [],
   "source": [
    "#CIFAR DATASET\n",
    "#60000 images of 32*32 pixels\n",
    "#split into 50000 for training and 10000 for testing\n",
    "#10 labels (airplane, automobile, bird, cat, deer, dog, frog, horse, ship, and truck)"
   ]
  },
  {
   "cell_type": "code",
   "execution_count": 2,
   "id": "1b196bc9",
   "metadata": {},
   "outputs": [
    {
     "name": "stdout",
     "output_type": "stream",
     "text": [
      "Downloading data from https://www.cs.toronto.edu/~kriz/cifar-10-python.tar.gz\n",
      "170500096/170498071 [==============================] - 54s 0us/step\n",
      "170508288/170498071 [==============================] - 54s 0us/step\n"
     ]
    }
   ],
   "source": [
    "from keras.datasets import cifar10\n",
    "(x_train, y_train), (x_test, y_test) = cifar10.load_data()"
   ]
  },
  {
   "cell_type": "code",
   "execution_count": 1,
   "id": "de08d110",
   "metadata": {},
   "outputs": [],
   "source": [
    "#LABELS\n",
    "#0: airplae\n",
    "#1: automobile\n",
    "#2: bird\n",
    "#3: cat\n",
    "#4: deer\n",
    "#5: dog\n",
    "#6: frog\n",
    "#7: horse\n",
    "#8: ship\n",
    "#9: truck"
   ]
  },
  {
   "cell_type": "code",
   "execution_count": 3,
   "id": "d697313e",
   "metadata": {},
   "outputs": [
    {
     "name": "stdout",
     "output_type": "stream",
     "text": [
      "x_train shape: (50000, 32, 32, 3)\n",
      "y_train shape: (50000, 1)\n"
     ]
    }
   ],
   "source": [
    "print('x_train shape:', x_train.shape)\n",
    "print('y_train shape:', y_train.shape)"
   ]
  },
  {
   "cell_type": "code",
   "execution_count": 4,
   "id": "336f32d6",
   "metadata": {},
   "outputs": [
    {
     "name": "stdout",
     "output_type": "stream",
     "text": [
      "[[[ 59  62  63]\n",
      "  [ 43  46  45]\n",
      "  [ 50  48  43]\n",
      "  ...\n",
      "  [158 132 108]\n",
      "  [152 125 102]\n",
      "  [148 124 103]]\n",
      "\n",
      " [[ 16  20  20]\n",
      "  [  0   0   0]\n",
      "  [ 18   8   0]\n",
      "  ...\n",
      "  [123  88  55]\n",
      "  [119  83  50]\n",
      "  [122  87  57]]\n",
      "\n",
      " [[ 25  24  21]\n",
      "  [ 16   7   0]\n",
      "  [ 49  27   8]\n",
      "  ...\n",
      "  [118  84  50]\n",
      "  [120  84  50]\n",
      "  [109  73  42]]\n",
      "\n",
      " ...\n",
      "\n",
      " [[208 170  96]\n",
      "  [201 153  34]\n",
      "  [198 161  26]\n",
      "  ...\n",
      "  [160 133  70]\n",
      "  [ 56  31   7]\n",
      "  [ 53  34  20]]\n",
      "\n",
      " [[180 139  96]\n",
      "  [173 123  42]\n",
      "  [186 144  30]\n",
      "  ...\n",
      "  [184 148  94]\n",
      "  [ 97  62  34]\n",
      "  [ 83  53  34]]\n",
      "\n",
      " [[177 144 116]\n",
      "  [168 129  94]\n",
      "  [179 142  87]\n",
      "  ...\n",
      "  [216 184 140]\n",
      "  [151 118  84]\n",
      "  [123  92  72]]]\n"
     ]
    }
   ],
   "source": [
    "#x_train consists of 50000 images, 32 pixels in height and width, 3 pixels in depth (RGB)\n",
    "#y_train shows 1 label for each image\n",
    "\n",
    "#look at individual image\n",
    "print(x_train[0])"
   ]
  },
  {
   "cell_type": "code",
   "execution_count": 8,
   "id": "afff6c28",
   "metadata": {},
   "outputs": [
    {
     "name": "stdout",
     "output_type": "stream",
     "text": [
      "The label is: [6]\n"
     ]
    },
    {
     "data": {
      "image/png": "[encoded data removed]",
      "text/plain": [
       "<Figure size 432x288 with 1 Axes>"
      ]
     },
     "metadata": {
      "needs_background": "light"
     },
     "output_type": "display_data"
    }
   ],
   "source": [
    "#view the image as an actual image with its label\n",
    "\n",
    "import matplotlib.pyplot as plt\n",
    "%matplotlib inline\n",
    "\n",
    "img = plt.imshow(x_train[0])\n",
    "print('The label is:', y_train[0])"
   ]
  },
  {
   "cell_type": "code",
   "execution_count": 9,
   "id": "798b7db3",
   "metadata": {
    "scrolled": true
   },
   "outputs": [
    {
     "name": "stdout",
     "output_type": "stream",
     "text": [
      "The label is: [9]\n"
     ]
    },
    {
     "data": {
      "image/png": "[encoded data removed]",
      "text/plain": [
       "<Figure size 432x288 with 1 Axes>"
      ]
     },
     "metadata": {
      "needs_background": "light"
     },
     "output_type": "display_data"
    }
   ],
   "source": [
    "img = plt.imshow(x_train[1])\n",
    "print('The label is:', y_train[1])"
   ]
  },
  {
   "cell_type": "code",
   "execution_count": 13,
   "id": "fcb390b6",
   "metadata": {},
   "outputs": [
    {
     "name": "stdout",
     "output_type": "stream",
     "text": [
      "The one hot label is: [0. 0. 0. 0. 0. 0. 0. 0. 0. 1.]\n"
     ]
    }
   ],
   "source": [
    "#could use labels 0 and 1 in housing as there are only two classes but this doesn't work with multi-class settings\n",
    "#need the probability of each of the 10 different classes\n",
    "#therfore need 10 output neurons in neural network\n",
    "#convert the label into a set of 10 numbers where each number represents if the image belongs to that class or not\n",
    "#if an image belongs to the first class the first number of this set will be a 1 and all other numbers in this set will be a 0\n",
    "\n",
    "#ONE-HOT ENCODING\n",
    "#0: airplae [1 0 0 0 0 0 0 0 0 0]\n",
    "#1: automobile [0 1 0 0 0 0 0 0 0 0]\n",
    "#2: bird [0 0 1 0 0 0 0 0 0 0]\n",
    "#3: cat [0 0 0 1 0 0 0 0 0 0]\n",
    "#4: deer [0 0 0 1 0 0 0 0 0 0]\n",
    "#5: dog [0 0 0 0 0 1 0 0 0 0]\n",
    "#6: frog [0 0 0 0 0 0 1 0 0 0]\n",
    "#7: horse [0 0 0 0 0 0 0 1 0 0]\n",
    "#8: ship [0 0 0 0 0 0 0 0 1 0]\n",
    "#9: truck [0 0 0 0 0 0 0 0 0 1]\n",
    "\n",
    "from tensorflow import keras\n",
    "\n",
    "y_train_one_hot = keras.utils.to_categorical(y_train, 10)\n",
    "y_test_one_hot = keras.utils.to_categorical(y_test, 10)\n",
    "\n",
    "print('The one hot label is:', y_train_one_hot[1])"
   ]
  },
  {
   "cell_type": "code",
   "execution_count": 14,
   "id": "93aa8639",
   "metadata": {},
   "outputs": [],
   "source": [
    "#since pixel values go from 0 to 255, divide by 255 to scale\n",
    "x_train = x_train.astype('float32')\n",
    "x_test = x_test.astype('float32')\n",
    "x_train = x_train / 255\n",
    "x_test = x_test / 255"
   ]
  },
  {
   "cell_type": "code",
   "execution_count": 15,
   "id": "a77fcd01",
   "metadata": {},
   "outputs": [
    {
     "data": {
      "text/plain": [
       "array([[[0.23137255, 0.24313726, 0.24705882],\n",
       "        [0.16862746, 0.18039216, 0.1764706 ],\n",
       "        [0.19607843, 0.1882353 , 0.16862746],\n",
       "        ...,\n",
       "        [0.61960787, 0.5176471 , 0.42352942],\n",
       "        [0.59607846, 0.49019608, 0.4       ],\n",
       "        [0.5803922 , 0.4862745 , 0.40392157]],\n",
       "\n",
       "       [[0.0627451 , 0.07843138, 0.07843138],\n",
       "        [0.        , 0.        , 0.        ],\n",
       "        [0.07058824, 0.03137255, 0.        ],\n",
       "        ...,\n",
       "        [0.48235294, 0.34509805, 0.21568628],\n",
       "        [0.46666667, 0.3254902 , 0.19607843],\n",
       "        [0.47843137, 0.34117648, 0.22352941]],\n",
       "\n",
       "       [[0.09803922, 0.09411765, 0.08235294],\n",
       "        [0.0627451 , 0.02745098, 0.        ],\n",
       "        [0.19215687, 0.10588235, 0.03137255],\n",
       "        ...,\n",
       "        [0.4627451 , 0.32941177, 0.19607843],\n",
       "        [0.47058824, 0.32941177, 0.19607843],\n",
       "        [0.42745098, 0.28627452, 0.16470589]],\n",
       "\n",
       "       ...,\n",
       "\n",
       "       [[0.8156863 , 0.6666667 , 0.3764706 ],\n",
       "        [0.7882353 , 0.6       , 0.13333334],\n",
       "        [0.7764706 , 0.6313726 , 0.10196079],\n",
       "        ...,\n",
       "        [0.627451  , 0.52156866, 0.27450982],\n",
       "        [0.21960784, 0.12156863, 0.02745098],\n",
       "        [0.20784314, 0.13333334, 0.07843138]],\n",
       "\n",
       "       [[0.7058824 , 0.54509807, 0.3764706 ],\n",
       "        [0.6784314 , 0.48235294, 0.16470589],\n",
       "        [0.7294118 , 0.5647059 , 0.11764706],\n",
       "        ...,\n",
       "        [0.72156864, 0.5803922 , 0.36862746],\n",
       "        [0.38039216, 0.24313726, 0.13333334],\n",
       "        [0.3254902 , 0.20784314, 0.13333334]],\n",
       "\n",
       "       [[0.69411767, 0.5647059 , 0.45490196],\n",
       "        [0.65882355, 0.5058824 , 0.36862746],\n",
       "        [0.7019608 , 0.5568628 , 0.34117648],\n",
       "        ...,\n",
       "        [0.84705883, 0.72156864, 0.54901963],\n",
       "        [0.5921569 , 0.4627451 , 0.32941177],\n",
       "        [0.48235294, 0.36078432, 0.28235295]]], dtype=float32)"
      ]
     },
     "execution_count": 15,
     "metadata": {},
     "output_type": "execute_result"
    }
   ],
   "source": [
    "x_train[0]"
   ]
  },
  {
   "cell_type": "code",
   "execution_count": null,
   "id": "000e88f3",
   "metadata": {},
   "outputs": [],
   "source": [
    "#CNN ARCHITECTURE\n",
    "#ReLU activation for all layers except last layer will be softmax activation -> transforms output into probability distributions\n",
    "#stride size 1 for all, default setting\n",
    "#1: Conv Layer (Filter size 3x3, Depth 32)\n",
    "#2: Conv Layer (Filter size 3x3, Depth 32)\n",
    "#3: Max Pool Layer (Filter size 2x2)\n",
    "#4: Dropout Layer (Prob of dropout 0.25)\n",
    "#5: Conv Layer (Filter size 3x3, Depth 64)\n",
    "#6: Conv Layer (Filter size 3x3, Depth 64)\n",
    "#7: Max Pool Layer (Filter size 2x2)\n",
    "#8: Dropout Layer (Prob of dropout 0.25)\n",
    "#9: FC Layer (512 neurons)\n",
    "#10: Dropout Layer (Prob of dropout 0.5)\n",
    "#11: FC Layer, Softmax (10 neurons)"
   ]
  },
  {
   "cell_type": "code",
   "execution_count": 16,
   "id": "2f070b01",
   "metadata": {},
   "outputs": [],
   "source": [
    "from keras.models import Sequential\n",
    "from keras.layers import Dense, Dropout, Flatten, Conv2D, MaxPooling2D"
   ]
  },
  {
   "cell_type": "code",
   "execution_count": 17,
   "id": "b2c1ae37",
   "metadata": {},
   "outputs": [
    {
     "name": "stdout",
     "output_type": "stream",
     "text": [
      "Model: \"sequential\"\n",
      "_________________________________________________________________\n",
      " Layer (type)                Output Shape              Param #   \n",
      "=================================================================\n",
      " conv2d (Conv2D)             (None, 32, 32, 32)        896       \n",
      "                                                                 \n",
      " conv2d_1 (Conv2D)           (None, 32, 32, 32)        9248      \n",
      "                                                                 \n",
      " max_pooling2d (MaxPooling2D  (None, 16, 16, 32)       0         \n",
      " )                                                               \n",
      "                                                                 \n",
      " dropout (Dropout)           (None, 16, 16, 32)        0         \n",
      "                                                                 \n",
      " conv2d_2 (Conv2D)           (None, 16, 16, 64)        18496     \n",
      "                                                                 \n",
      " conv2d_3 (Conv2D)           (None, 16, 16, 64)        36928     \n",
      "                                                                 \n",
      " max_pooling2d_1 (MaxPooling  (None, 8, 8, 64)         0         \n",
      " 2D)                                                             \n",
      "                                                                 \n",
      " dropout_1 (Dropout)         (None, 8, 8, 64)          0         \n",
      "                                                                 \n",
      " flatten (Flatten)           (None, 4096)              0         \n",
      "                                                                 \n",
      " dense (Dense)               (None, 512)               2097664   \n",
      "                                                                 \n",
      " dropout_2 (Dropout)         (None, 512)               0         \n",
      "                                                                 \n",
      " dense_1 (Dense)             (None, 10)                5130      \n",
      "                                                                 \n",
      "=================================================================\n",
      "Total params: 2,168,362\n",
      "Trainable params: 2,168,362\n",
      "Non-trainable params: 0\n",
      "_________________________________________________________________\n"
     ]
    }
   ],
   "source": [
    "model = Sequential()\n",
    "model.add(Conv2D(32, (3, 3), activation='relu', padding='same', input_shape=(32,32,3)))\n",
    "model.add(Conv2D(32, (3, 3), activation='relu', padding='same'))\n",
    "model.add(MaxPooling2D(pool_size=(2, 2)))\n",
    "model.add(Dropout(0.25)) #hopefully prevents overfitting\n",
    "model.add(Conv2D(64, (3, 3), activation='relu', padding='same')) #double the depth\n",
    "model.add(Conv2D(64, (3, 3), activation='relu', padding='same'))\n",
    "model.add(MaxPooling2D(pool_size=(2, 2)))\n",
    "model.add(Dropout(0.25))\n",
    "\n",
    "\n",
    "model.add(Flatten()) #as neurons are spatially arranged in a cube-like format rather than in just one row\n",
    "model.add(Dense(512, activation='relu'))\n",
    "model.add(Dropout(0.5))\n",
    "model.add(Dense(10, activation='softmax'))\n",
    "model.summary()"
   ]
  },
  {
   "cell_type": "code",
   "execution_count": 18,
   "id": "355697c4",
   "metadata": {},
   "outputs": [],
   "source": [
    "model.compile(loss='categorical_crossentropy',\n",
    "              optimizer='adam',\n",
    "              metrics=['accuracy'])"
   ]
  },
  {
   "cell_type": "code",
   "execution_count": 20,
   "id": "9deac5e8",
   "metadata": {},
   "outputs": [
    {
     "name": "stdout",
     "output_type": "stream",
     "text": [
      "Epoch 1/20\n",
      "1250/1250 [==============================] - 238s 188ms/step - loss: 1.5632 - accuracy: 0.4268 - val_loss: 1.2222 - val_accuracy: 0.5585\n",
      "Epoch 2/20\n",
      "1250/1250 [==============================] - 237s 190ms/step - loss: 1.1730 - accuracy: 0.5789 - val_loss: 1.0540 - val_accuracy: 0.6241\n",
      "Epoch 3/20\n",
      "1250/1250 [==============================] - 218s 175ms/step - loss: 1.0113 - accuracy: 0.6396 - val_loss: 0.9091 - val_accuracy: 0.6803\n",
      "Epoch 4/20\n",
      "1250/1250 [==============================] - 219s 175ms/step - loss: 0.9087 - accuracy: 0.6787 - val_loss: 0.9493 - val_accuracy: 0.6692\n",
      "Epoch 5/20\n",
      "1250/1250 [==============================] - 218s 174ms/step - loss: 0.8325 - accuracy: 0.7076 - val_loss: 0.7908 - val_accuracy: 0.7238\n",
      "Epoch 6/20\n",
      "1250/1250 [==============================] - 217s 174ms/step - loss: 0.7675 - accuracy: 0.7291 - val_loss: 0.7859 - val_accuracy: 0.7283\n",
      "Epoch 7/20\n",
      "1250/1250 [==============================] - 219s 176ms/step - loss: 0.7182 - accuracy: 0.7479 - val_loss: 0.7250 - val_accuracy: 0.7480\n",
      "Epoch 8/20\n",
      "1250/1250 [==============================] - 222s 177ms/step - loss: 0.6683 - accuracy: 0.7629 - val_loss: 0.7089 - val_accuracy: 0.7598\n",
      "Epoch 9/20\n",
      "1250/1250 [==============================] - 218s 175ms/step - loss: 0.6300 - accuracy: 0.7790 - val_loss: 0.7366 - val_accuracy: 0.7519\n",
      "Epoch 10/20\n",
      "1250/1250 [==============================] - 222s 178ms/step - loss: 0.5980 - accuracy: 0.7872 - val_loss: 0.7153 - val_accuracy: 0.7580\n",
      "Epoch 11/20\n",
      "1250/1250 [==============================] - 233s 186ms/step - loss: 0.5737 - accuracy: 0.7993 - val_loss: 0.7518 - val_accuracy: 0.7475\n",
      "Epoch 12/20\n",
      "1250/1250 [==============================] - 219s 175ms/step - loss: 0.5480 - accuracy: 0.8054 - val_loss: 0.6999 - val_accuracy: 0.7738\n",
      "Epoch 13/20\n",
      "1250/1250 [==============================] - 219s 175ms/step - loss: 0.5215 - accuracy: 0.8171 - val_loss: 0.7703 - val_accuracy: 0.7489\n",
      "Epoch 14/20\n",
      "1250/1250 [==============================] - 221s 176ms/step - loss: 0.5067 - accuracy: 0.8209 - val_loss: 0.6920 - val_accuracy: 0.7776\n",
      "Epoch 15/20\n",
      "1250/1250 [==============================] - 219s 175ms/step - loss: 0.4820 - accuracy: 0.8298 - val_loss: 0.7279 - val_accuracy: 0.7561\n",
      "Epoch 16/20\n",
      "1250/1250 [==============================] - 215s 172ms/step - loss: 0.4694 - accuracy: 0.8339 - val_loss: 0.6987 - val_accuracy: 0.7711\n",
      "Epoch 17/20\n",
      "1250/1250 [==============================] - 211s 169ms/step - loss: 0.4512 - accuracy: 0.8411 - val_loss: 0.6941 - val_accuracy: 0.7810\n",
      "Epoch 18/20\n",
      "1250/1250 [==============================] - 207s 165ms/step - loss: 0.4352 - accuracy: 0.8461 - val_loss: 0.6913 - val_accuracy: 0.7817\n",
      "Epoch 19/20\n",
      "1250/1250 [==============================] - 205s 164ms/step - loss: 0.4260 - accuracy: 0.8512 - val_loss: 0.7305 - val_accuracy: 0.7667\n",
      "Epoch 20/20\n",
      "1250/1250 [==============================] - 203s 162ms/step - loss: 0.4172 - accuracy: 0.8547 - val_loss: 0.7284 - val_accuracy: 0.7713\n"
     ]
    }
   ],
   "source": [
    "hist = model.fit(x_train, y_train_one_hot, \n",
    "           batch_size=32, epochs=20, \n",
    "           validation_split=0.2)"
   ]
  },
  {
   "cell_type": "code",
   "execution_count": 21,
   "id": "f2e38273",
   "metadata": {},
   "outputs": [
    {
     "data": {
      "image/png": "[encoded data removed]",
      "text/plain": [
       "<Figure size 432x288 with 1 Axes>"
      ]
     },
     "metadata": {
      "needs_background": "light"
     },
     "output_type": "display_data"
    },
    {
     "data": {
      "image/png": "[encoded data removed]",
      "text/plain": [
       "<Figure size 432x288 with 1 Axes>"
      ]
     },
     "metadata": {
      "needs_background": "light"
     },
     "output_type": "display_data"
    }
   ],
   "source": [
    "plt.plot(hist.history['loss'])\n",
    "plt.plot(hist.history['val_loss'])\n",
    "plt.title('Model loss')\n",
    "plt.ylabel('Loss')\n",
    "plt.xlabel('Epoch')\n",
    "plt.legend(['Train', 'Val'], loc='upper right')\n",
    "plt.show()\n",
    "\n",
    "plt.plot(hist.history['accuracy'])\n",
    "plt.plot(hist.history['val_accuracy'])\n",
    "plt.title('Model accuracy')\n",
    "plt.ylabel('Accuracy')\n",
    "plt.xlabel('Epoch')\n",
    "plt.legend(['Train', 'Val'], loc='lower right')\n",
    "plt.show()"
   ]
  },
  {
   "cell_type": "code",
   "execution_count": 39,
   "id": "b7ba666f",
   "metadata": {},
   "outputs": [
    {
     "name": "stdout",
     "output_type": "stream",
     "text": [
      "313/313 [==============================] - 12s 39ms/step - loss: 0.7550 - accuracy: 0.7669\n"
     ]
    },
    {
     "data": {
      "text/plain": [
       "0.7669000029563904"
      ]
     },
     "execution_count": 39,
     "metadata": {},
     "output_type": "execute_result"
    }
   ],
   "source": [
    "model.evaluate(x_test, y_test_one_hot)[1]"
   ]
  },
  {
   "cell_type": "code",
   "execution_count": 40,
   "id": "4530189c",
   "metadata": {},
   "outputs": [],
   "source": [
    "#since it took so long to train, save the model\n",
    "model.save('my_cifar10_model.h5')"
   ]
  },
  {
   "cell_type": "code",
   "execution_count": 41,
   "id": "4bf6367f",
   "metadata": {},
   "outputs": [],
   "source": [
    "#test on new images\n",
    "my_image = plt.imread(\"cat.jpg\")"
   ]
  },
  {
   "cell_type": "code",
   "execution_count": 42,
   "id": "e160b27f",
   "metadata": {},
   "outputs": [
    {
     "data": {
      "image/png": "[encoded data removed]",
      "text/plain": [
       "<Figure size 432x288 with 1 Axes>"
      ]
     },
     "metadata": {
      "needs_background": "light"
     },
     "output_type": "display_data"
    }
   ],
   "source": [
    "#resize to fit input size of 32 32 3\n",
    "from skimage.transform import resize\n",
    "my_image_resized = resize(my_image, (32,32,3))\n",
    "img = plt.imshow(my_image_resized)"
   ]
  },
  {
   "cell_type": "code",
   "execution_count": 43,
   "id": "7ae62e4e",
   "metadata": {},
   "outputs": [
    {
     "data": {
      "text/plain": [
       "array([[1.7842781e-03, 1.0618274e-04, 2.7549339e-03, 2.2309892e-01,\n",
       "        1.2546459e-01, 2.7635217e-01, 6.4873777e-02, 3.0487594e-01,\n",
       "        6.1312632e-04, 7.6047741e-05]], dtype=float32)"
      ]
     },
     "execution_count": 43,
     "metadata": {},
     "output_type": "execute_result"
    }
   ],
   "source": [
    "import numpy as np\n",
    "probabilities = model.predict(np.array( [my_image_resized,]))\n",
    "probabilities"
   ]
  },
  {
   "cell_type": "code",
   "execution_count": 44,
   "id": "a31ff580",
   "metadata": {},
   "outputs": [
    {
     "name": "stdout",
     "output_type": "stream",
     "text": [
      "Most likely class: horse -- Probability: 0.30487594\n",
      "Second most likely class: dog -- Probability: 0.27635217\n",
      "Third most likely class: cat -- Probability: 0.22309892\n",
      "Fourth most likely class: deer -- Probability: 0.12546459\n",
      "Fifth most likely class: frog -- Probability: 0.06487378\n"
     ]
    }
   ],
   "source": [
    "number_to_class = ['airplane', 'automobile', 'bird', 'cat', 'deer', 'dog', 'frog', 'horse', 'ship', 'truck']\n",
    "index = np.argsort(probabilities[0,:])\n",
    "print(\"Most likely class:\", number_to_class[index[9]], \"-- Probability:\", probabilities[0,index[9]])\n",
    "print(\"Second most likely class:\", number_to_class[index[8]], \"-- Probability:\", probabilities[0,index[8]])\n",
    "print(\"Third most likely class:\", number_to_class[index[7]], \"-- Probability:\", probabilities[0,index[7]])\n",
    "print(\"Fourth most likely class:\", number_to_class[index[6]], \"-- Probability:\", probabilities[0,index[6]])\n",
    "print(\"Fifth most likely class:\", number_to_class[index[5]], \"-- Probability:\", probabilities[0,index[5]])"
   ]
  },
  {
   "cell_type": "code",
   "execution_count": null,
   "id": "4082ab7f",
   "metadata": {},
   "outputs": [],
   "source": [
    "#very low accuracy"
   ]
  }
 ],
 "metadata": {
  "kernelspec": {
   "display_name": "Python 3",
   "language": "python",
   "name": "python3"
  },
  "language_info": {
   "codemirror_mode": {
    "name": "ipython",
    "version": 3
   },
   "file_extension": ".py",
   "mimetype": "text/x-python",
   "name": "python",
   "nbconvert_exporter": "python",
   "pygments_lexer": "ipython3",
   "version": "3.8.8"
  }
 },
 "nbformat": 4,
 "nbformat_minor": 5
}
